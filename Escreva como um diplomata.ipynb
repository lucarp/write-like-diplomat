{
 "cells": [
  {
   "cell_type": "markdown",
   "metadata": {},
   "source": [
    "# Projeto: Escreva como um diplomata"
   ]
  },
  {
   "cell_type": "code",
   "execution_count": 22,
   "metadata": {},
   "outputs": [],
   "source": [
    "# Imports\n",
    "import numpy as np\n",
    "import pandas as pd\n",
    "from collections import Counter"
   ]
  },
  {
   "cell_type": "code",
   "execution_count": 51,
   "metadata": {},
   "outputs": [],
   "source": [
    "def get_data(filepath):\n",
    "    return open(filepath, 'r').read()\n",
    "\n",
    "def preprocess(text):\n",
    "\n",
    "    # Replace punctuation with tokens so we can use them in our model\n",
    "    text = text.lower()\n",
    "    text = text.replace('.', ' <PERIOD> ')\n",
    "    text = text.replace(',', ' <COMMA> ')\n",
    "    text = text.replace('\"', ' <QUOTATION_MARK> ')\n",
    "    text = text.replace(';', ' <SEMICOLON> ')\n",
    "    text = text.replace('!', ' <EXCLAMATION_MARK> ')\n",
    "    text = text.replace('?', ' <QUESTION_MARK> ')\n",
    "    text = text.replace('(', ' <LEFT_PAREN> ')\n",
    "    text = text.replace(')', ' <RIGHT_PAREN> ')\n",
    "    text = text.replace('--', ' <HYPHENS> ')\n",
    "    text = text.replace('?', ' <QUESTION_MARK> ')\n",
    "    # text = text.replace('\\n', ' <NEW_LINE> ')\n",
    "    text = text.replace(':', ' <COLON> ')\n",
    "    words = text.split()\n",
    "    vocab = set(words)\n",
    "    \n",
    "    counts = Counter(words)\n",
    "    vocab = sorted(counts, key=counts.get, reverse=True)\n",
    "    vocab_to_int = {word: ii for ii, word in enumerate(vocab, 1)}\n",
    "    \n",
    "    text_ints = []\n",
    "    for word in words:\n",
    "        text_ints.append(vocab_to_int[word])\n",
    "    \n",
    "    text_ints = np.array(text_ints)\n",
    "    labels_ints = np.zeros_like(text_ints)\n",
    "    labels_ints[:-1], labels_ints[-1] = text_ints[1:], text_ints[0]\n",
    "\n",
    "    return text_ints, labels_ints, vocab, vocab_to_int\n",
    "\n",
    "\n",
    "inputs, targets, vocab, vocab_to_int = preprocess(get_data('data/model.txt'))"
   ]
  },
  {
   "cell_type": "code",
   "execution_count": 52,
   "metadata": {},
   "outputs": [
    {
     "data": {
      "text/plain": [
       "(array([   6,   70,   98, 2441, 3841,    2, 2442, 1508,  262,    4, 1396,\n",
       "          28,   92,  114,   12,  203,   25, 4791,    8, 3197,    5,  209,\n",
       "          30,  387,   17, 4792,    1,   17, 2172,    5,   10, 1953, 2173,\n",
       "           1,   26,    9,  121, 3198,   24, 1954,   58, 3842,    3, 1623,\n",
       "        3843,    1,  424,    2, 2174,   48, 6741,   30,  242,  120,    9,\n",
       "         294,   55, 3844,   54,    1,   12,  366,  110,  624, 6742,    5,\n",
       "         263,    2, 3845,    9, 6743,   66, 1955, 3846,    1,   25,  589,\n",
       "        3199,   28,   92,  114,   12,   16,  523,   55, 6744,   54,    1,\n",
       "          12,    4, 3200,    2,  373, 1397,    1,  253,    2,  294,    1,\n",
       "         110]),\n",
       " array([  70,   98, 2441, 3841,    2, 2442, 1508,  262,    4, 1396,   28,\n",
       "          92,  114,   12,  203,   25, 4791,    8, 3197,    5,  209,   30,\n",
       "         387,   17, 4792,    1,   17, 2172,    5,   10, 1953, 2173,    1,\n",
       "          26,    9,  121, 3198,   24, 1954,   58, 3842,    3, 1623, 3843,\n",
       "           1,  424,    2, 2174,   48, 6741,   30,  242,  120,    9,  294,\n",
       "          55, 3844,   54,    1,   12,  366,  110,  624, 6742,    5,  263,\n",
       "           2, 3845,    9, 6743,   66, 1955, 3846,    1,   25,  589, 3199,\n",
       "          28,   92,  114,   12,   16,  523,   55, 6744,   54,    1,   12,\n",
       "           4, 3200,    2,  373, 1397,    1,  253,    2,  294,    1,  110,\n",
       "         624]))"
      ]
     },
     "execution_count": 52,
     "metadata": {},
     "output_type": "execute_result"
    }
   ],
   "source": [
    "inputs[:100], targets[:100]"
   ]
  },
  {
   "cell_type": "code",
   "execution_count": null,
   "metadata": {
    "collapsed": true
   },
   "outputs": [],
   "source": [
    "# Batch"
   ]
  }
 ],
 "metadata": {
  "kernelspec": {
   "display_name": "Python 3",
   "language": "python",
   "name": "python3"
  },
  "language_info": {
   "codemirror_mode": {
    "name": "ipython",
    "version": 3
   },
   "file_extension": ".py",
   "mimetype": "text/x-python",
   "name": "python",
   "nbconvert_exporter": "python",
   "pygments_lexer": "ipython3",
   "version": "3.6.2"
  }
 },
 "nbformat": 4,
 "nbformat_minor": 2
}
